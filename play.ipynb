{
 "cells": [
  {
   "cell_type": "code",
   "execution_count": 55,
   "outputs": [],
   "source": [
    "from scipy.stats import chi2_contingency, power_divergence\n",
    "import numpy as np"
   ],
   "metadata": {
    "collapsed": false,
    "pycharm": {
     "name": "#%%\n"
    }
   }
  },
  {
   "cell_type": "code",
   "execution_count": 25,
   "outputs": [],
   "source": [
    "table = np.array([[338, 363],\n",
    "         [125, 156]])"
   ],
   "metadata": {
    "collapsed": false,
    "pycharm": {
     "name": "#%%\n"
    }
   }
  },
  {
   "cell_type": "code",
   "execution_count": 18,
   "outputs": [
    {
     "data": {
      "text/plain": "(0.9783013059786239,\n 0.3226185464764574,\n 1,\n array([[330.51221996, 370.48778004],\n        [132.48778004, 148.51221996]]))"
     },
     "execution_count": 18,
     "metadata": {},
     "output_type": "execute_result"
    }
   ],
   "source": [
    "chi2_contingency(table, lambda_=\"log-likelihood\")"
   ],
   "metadata": {
    "collapsed": false,
    "pycharm": {
     "name": "#%%\n"
    }
   }
  },
  {
   "cell_type": "code",
   "execution_count": 41,
   "outputs": [
    {
     "data": {
      "text/plain": "(1.1234566202986294,\n 0.28917536983502934,\n 1,\n array([[330.51221996, 370.48778004],\n        [132.48778004, 148.51221996]]))"
     },
     "execution_count": 41,
     "metadata": {},
     "output_type": "execute_result"
    }
   ],
   "source": [
    "chi2_contingency(table, correction=False, lambda_=\"log-likelihood\")"
   ],
   "metadata": {
    "collapsed": false,
    "pycharm": {
     "name": "#%%\n"
    }
   }
  },
  {
   "cell_type": "code",
   "execution_count": 48,
   "outputs": [],
   "source": [
    "_, _, _ ,e = chi2_contingency(table)"
   ],
   "metadata": {
    "collapsed": false,
    "pycharm": {
     "name": "#%%\n"
    }
   }
  },
  {
   "cell_type": "markdown",
   "source": [],
   "metadata": {
    "collapsed": false,
    "pycharm": {
     "name": "#%% md\n"
    }
   }
  },
  {
   "cell_type": "code",
   "execution_count": 45,
   "outputs": [],
   "source": [
    "e = e.flatten()"
   ],
   "metadata": {
    "collapsed": false,
    "pycharm": {
     "name": "#%%\n"
    }
   }
  },
  {
   "cell_type": "code",
   "execution_count": 37,
   "outputs": [
    {
     "data": {
      "text/plain": "0.9768777737205301"
     },
     "execution_count": 37,
     "metadata": {},
     "output_type": "execute_result"
    }
   ],
   "source": [
    "np.array([(np.abs(o - ei) - 0.5) ** 2 / ei for o, ei in zip(table.flatten(), e.flatten())]).sum()"
   ],
   "metadata": {
    "collapsed": false,
    "pycharm": {
     "name": "#%%\n"
    }
   }
  },
  {
   "cell_type": "code",
   "execution_count": 57,
   "outputs": [],
   "source": [
    "from scipy.stats import chi2"
   ],
   "metadata": {
    "collapsed": false,
    "pycharm": {
     "name": "#%%\n"
    }
   }
  },
  {
   "cell_type": "code",
   "execution_count": 68,
   "outputs": [
    {
     "data": {
      "text/plain": "0.6826894921370859"
     },
     "execution_count": 68,
     "metadata": {},
     "output_type": "execute_result"
    }
   ],
   "source": [
    "chi2(1).cdf(1)"
   ],
   "metadata": {
    "collapsed": false,
    "pycharm": {
     "name": "#%%\n"
    }
   }
  },
  {
   "cell_type": "code",
   "execution_count": 49,
   "outputs": [],
   "source": [
    "e = e.flatten()\n",
    "if (e[0]*e[3] - e[1]*e[2]) > 0:\n",
    "    e[0] -= 0.5\n",
    "    e[3] -= 0.5\n",
    "    e[1] += 0.5\n",
    "    e[3] += 0.5\n",
    "else:\n",
    "    e[0] += 0.5\n",
    "    e[3] += 0.5\n",
    "    e[1] -= 0.5\n",
    "    e[3] -= 0.5"
   ],
   "metadata": {
    "collapsed": false,
    "pycharm": {
     "name": "#%%\n"
    }
   }
  },
  {
   "cell_type": "code",
   "execution_count": 50,
   "outputs": [
    {
     "data": {
      "text/plain": "1.1677571703405292"
     },
     "execution_count": 50,
     "metadata": {},
     "output_type": "execute_result"
    }
   ],
   "source": [
    "2 * np.array([o * np.log(o/ei) for o, ei in zip(table.flatten(), e.flatten())]).sum()"
   ],
   "metadata": {
    "collapsed": false,
    "pycharm": {
     "name": "#%%\n"
    }
   }
  },
  {
   "cell_type": "code",
   "execution_count": 51,
   "outputs": [],
   "source": [
    "from functools import reduce"
   ],
   "metadata": {
    "collapsed": false,
    "pycharm": {
     "name": "#%%\n"
    }
   }
  },
  {
   "cell_type": "code",
   "execution_count": 52,
   "outputs": [],
   "source": [
    "def margins(a):\n",
    "    margsums = []\n",
    "    ranged = list(range(a.ndim))\n",
    "    for k in ranged:\n",
    "        marg = np.apply_over_axes(np.sum, a, [j for j in ranged if j != k])\n",
    "        margsums.append(marg)\n",
    "    return margsums"
   ],
   "metadata": {
    "collapsed": false,
    "pycharm": {
     "name": "#%%\n"
    }
   }
  },
  {
   "cell_type": "code",
   "execution_count": 53,
   "outputs": [],
   "source": [
    "def expected_freq(observed):\n",
    "    # Typically `observed` is an integer array. If `observed` has a large\n",
    "    # number of dimensions or holds large values, some of the following\n",
    "    # computations may overflow, so we first switch to floating point.\n",
    "    observed = np.asarray(observed, dtype=np.float64)\n",
    "\n",
    "    # Create a list of the marginal sums.\n",
    "    margsums = margins(observed)\n",
    "\n",
    "    # Create the array of expected frequencies.  The shapes of the\n",
    "    # marginal sums returned by apply_over_axes() are just what we\n",
    "    # need for broadcasting in the following product.\n",
    "    d = observed.ndim\n",
    "    expected = reduce(np.multiply, margsums) / observed.sum() ** (d - 1)\n",
    "    return expected"
   ],
   "metadata": {
    "collapsed": false,
    "pycharm": {
     "name": "#%%\n"
    }
   }
  },
  {
   "cell_type": "code",
   "execution_count": 54,
   "outputs": [],
   "source": [
    "def chi2_contingency(observed, correction=True, lambda_=None):\n",
    "    observed = np.asarray(observed)\n",
    "\n",
    "    expected = expected_freq(observed)\n",
    "    if np.any(expected == 0):\n",
    "        # Include one of the positions where expected is zero in\n",
    "        # the exception message.\n",
    "        zeropos = list(zip(*np.nonzero(expected == 0)))[0]\n",
    "        raise ValueError(\"The internally computed table of expected \"\n",
    "                         \"frequencies has a zero element at %s.\" % (zeropos,))\n",
    "\n",
    "    # The degrees of freedom\n",
    "    dof = expected.size - sum(expected.shape) + expected.ndim - 1\n",
    "\n",
    "    if dof == 0:\n",
    "        # Degenerate case; this occurs when `observed` is 1D (or, more\n",
    "        # generally, when it has only one nontrivial dimension).  In this\n",
    "        # case, we also have observed == expected, so chi2 is 0.\n",
    "        chi2 = 0.0\n",
    "        p = 1.0\n",
    "    else:\n",
    "        if dof == 1 and correction:\n",
    "            # Adjust `observed` according to Yates' correction for continuity.\n",
    "            # Magnitude of correction no bigger than difference; see gh-13875\n",
    "            diff = expected - observed\n",
    "            direction = np.sign(diff)\n",
    "            magnitude = np.minimum(0.5, np.abs(diff))\n",
    "            observed = observed + magnitude * direction\n",
    "\n",
    "        chi2, p = power_divergence(observed, expected,\n",
    "                                   ddof=observed.size - 1 - dof, axis=None,\n",
    "                                   lambda_=lambda_)\n",
    "\n",
    "    return chi2, p, dof, expected"
   ],
   "metadata": {
    "collapsed": false,
    "pycharm": {
     "name": "#%%\n"
    }
   }
  },
  {
   "cell_type": "code",
   "execution_count": null,
   "outputs": [],
   "source": [],
   "metadata": {
    "collapsed": false,
    "pycharm": {
     "name": "#%%\n"
    }
   }
  }
 ],
 "metadata": {
  "kernelspec": {
   "display_name": "Python 3",
   "language": "python",
   "name": "python3"
  },
  "language_info": {
   "codemirror_mode": {
    "name": "ipython",
    "version": 2
   },
   "file_extension": ".py",
   "mimetype": "text/x-python",
   "name": "python",
   "nbconvert_exporter": "python",
   "pygments_lexer": "ipython2",
   "version": "2.7.6"
  }
 },
 "nbformat": 4,
 "nbformat_minor": 0
}